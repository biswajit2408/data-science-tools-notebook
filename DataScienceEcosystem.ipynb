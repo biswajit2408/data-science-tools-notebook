{
 "cells": [
  {
   "cell_type": "markdown",
   "id": "9c169a11-e6b2-481a-95c1-889dd228e6da",
   "metadata": {},
   "source": [
    "# Data Science Tools and Ecosystem"
   ]
  },
  {
   "cell_type": "markdown",
   "id": "fcfa998d-390c-4e5e-a27d-5c97c48277d9",
   "metadata": {},
   "source": [
    "In this notebook, we will explore various tools, libraries, and environments that are part of the data science ecosystem."
   ]
  },
  {
   "cell_type": "markdown",
   "id": "d992cc69-167c-437c-b34b-1161cd5910c6",
   "metadata": {},
   "source": [
    "Some of the popular languages that Data Scientists use are:\n",
    "\n",
    "1. Python  \n",
    "2. R  \n",
    "3. SQL  \n",
    "4. Julia  \n",
    "5. Scala"
   ]
  },
  {
   "cell_type": "markdown",
   "id": "5b471d2d-8f54-4f7f-bd60-ec9280dccf5f",
   "metadata": {},
   "source": [
    "Some of the commonly used libraries used by Data Scientists include:\n",
    "\n",
    "1. Pandas  \n",
    "2. NumPy  \n",
    "3. Matplotlib  \n",
    "4. Scikit-learn  \n",
    "5. TensorFlow\n"
   ]
  },
  {
   "cell_type": "markdown",
   "id": "4ae00a8f-114d-4324-88a1-29e5e762714b",
   "metadata": {},
   "source": [
    "| Data Science Tools         |\n",
    "|----------------------------|\n",
    "| Jupyter Notebook           |\n",
    "| RStudio                    |\n",
    "| Visual Studio Code (VS Code) |\n"
   ]
  },
  {
   "cell_type": "markdown",
   "id": "450a47e5-d721-41cc-9798-03a3dcbc6bae",
   "metadata": {},
   "source": [
    "### Below are a few examples of evaluating arithmetic expressions in Python."
   ]
  },
  {
   "cell_type": "code",
   "execution_count": 7,
   "id": "1aba43c4-939a-442a-a953-b096d7ea1cfc",
   "metadata": {},
   "outputs": [
    {
     "data": {
      "text/plain": [
       "17"
      ]
     },
     "execution_count": 7,
     "metadata": {},
     "output_type": "execute_result"
    }
   ],
   "source": [
    "# This is a simple arithmetic expression to multiply then add integers\n",
    "(3 * 4) + 5\n"
   ]
  },
  {
   "cell_type": "code",
   "execution_count": 8,
   "id": "527eedfc-52b6-4e7a-bd4d-7c606c9bc33c",
   "metadata": {},
   "outputs": [
    {
     "data": {
      "text/plain": [
       "3.3333333333333335"
      ]
     },
     "execution_count": 8,
     "metadata": {},
     "output_type": "execute_result"
    }
   ],
   "source": [
    "# This will convert 200 minutes to hours by diving by 60\n",
    "(200 / 60)"
   ]
  },
  {
   "cell_type": "markdown",
   "id": "170b5fe3-bf1b-4c66-9b4f-3e75be0b1d04",
   "metadata": {},
   "source": [
    "**Objectives:**\n",
    "\n",
    "- List popular languages for Data Science  \n",
    "- Identify commonly used Data Science libraries  \n",
    "- Understand Data Science development tools  \n",
    "- Perform basic arithmetic operations in Python  \n",
    "- Convert time units using Python code\n"
   ]
  },
  {
   "cell_type": "markdown",
   "id": "f10d1204-a8e3-4f95-b969-2e85c630a668",
   "metadata": {},
   "source": [
    "## Author\n",
    "Biswajit Jana"
   ]
  },
  {
   "cell_type": "code",
   "execution_count": null,
   "id": "d2a980cf-cdea-4bc9-9250-2a4cee888cf2",
   "metadata": {},
   "outputs": [],
   "source": []
  }
 ],
 "metadata": {
  "kernelspec": {
   "display_name": "Python 3 (ipykernel)",
   "language": "python",
   "name": "python3"
  },
  "language_info": {
   "codemirror_mode": {
    "name": "ipython",
    "version": 3
   },
   "file_extension": ".py",
   "mimetype": "text/x-python",
   "name": "python",
   "nbconvert_exporter": "python",
   "pygments_lexer": "ipython3",
   "version": "3.12.4"
  }
 },
 "nbformat": 4,
 "nbformat_minor": 5
}
